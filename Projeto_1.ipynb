{
  "nbformat": 4,
  "nbformat_minor": 0,
  "metadata": {
    "colab": {
      "provenance": []
    },
    "kernelspec": {
      "name": "python3",
      "display_name": "Python 3"
    },
    "language_info": {
      "name": "python"
    }
  },
  "cells": [
    {
      "cell_type": "code",
      "execution_count": 1,
      "metadata": {
        "colab": {
          "base_uri": "https://localhost:8080/"
        },
        "id": "K_zwfD39b0tT",
        "outputId": "245ed060-4f2a-4101-b754-66231349a153"
      },
      "outputs": [
        {
          "output_type": "stream",
          "name": "stdout",
          "text": [
            "Collecting statstests\n",
            "  Downloading statstests-1.0.7-py3-none-any.whl.metadata (1.7 kB)\n",
            "Downloading statstests-1.0.7-py3-none-any.whl (16 kB)\n",
            "Installing collected packages: statstests\n",
            "Successfully installed statstests-1.0.7\n"
          ]
        }
      ],
      "source": [
        "!pip install statstests"
      ]
    },
    {
      "cell_type": "code",
      "source": [
        "!pip install pingouin"
      ],
      "metadata": {
        "colab": {
          "base_uri": "https://localhost:8080/"
        },
        "id": "Ezv-N7oWb6NC",
        "outputId": "7df7b07e-64b0-4fd7-e045-7f240ad7ce28"
      },
      "execution_count": 2,
      "outputs": [
        {
          "output_type": "stream",
          "name": "stdout",
          "text": [
            "Collecting pingouin\n",
            "  Downloading pingouin-0.5.5-py3-none-any.whl.metadata (19 kB)\n",
            "Requirement already satisfied: matplotlib in /usr/local/lib/python3.11/dist-packages (from pingouin) (3.10.0)\n",
            "Requirement already satisfied: numpy in /usr/local/lib/python3.11/dist-packages (from pingouin) (2.0.2)\n",
            "Requirement already satisfied: pandas>=1.5 in /usr/local/lib/python3.11/dist-packages (from pingouin) (2.2.2)\n",
            "Collecting pandas-flavor (from pingouin)\n",
            "  Downloading pandas_flavor-0.7.0-py3-none-any.whl.metadata (6.7 kB)\n",
            "Requirement already satisfied: scikit-learn>=1.2 in /usr/local/lib/python3.11/dist-packages (from pingouin) (1.6.1)\n",
            "Requirement already satisfied: scipy in /usr/local/lib/python3.11/dist-packages (from pingouin) (1.14.1)\n",
            "Requirement already satisfied: seaborn in /usr/local/lib/python3.11/dist-packages (from pingouin) (0.13.2)\n",
            "Requirement already satisfied: statsmodels in /usr/local/lib/python3.11/dist-packages (from pingouin) (0.14.4)\n",
            "Requirement already satisfied: tabulate in /usr/local/lib/python3.11/dist-packages (from pingouin) (0.9.0)\n",
            "Requirement already satisfied: python-dateutil>=2.8.2 in /usr/local/lib/python3.11/dist-packages (from pandas>=1.5->pingouin) (2.8.2)\n",
            "Requirement already satisfied: pytz>=2020.1 in /usr/local/lib/python3.11/dist-packages (from pandas>=1.5->pingouin) (2025.2)\n",
            "Requirement already satisfied: tzdata>=2022.7 in /usr/local/lib/python3.11/dist-packages (from pandas>=1.5->pingouin) (2025.2)\n",
            "Requirement already satisfied: joblib>=1.2.0 in /usr/local/lib/python3.11/dist-packages (from scikit-learn>=1.2->pingouin) (1.4.2)\n",
            "Requirement already satisfied: threadpoolctl>=3.1.0 in /usr/local/lib/python3.11/dist-packages (from scikit-learn>=1.2->pingouin) (3.6.0)\n",
            "Requirement already satisfied: contourpy>=1.0.1 in /usr/local/lib/python3.11/dist-packages (from matplotlib->pingouin) (1.3.2)\n",
            "Requirement already satisfied: cycler>=0.10 in /usr/local/lib/python3.11/dist-packages (from matplotlib->pingouin) (0.12.1)\n",
            "Requirement already satisfied: fonttools>=4.22.0 in /usr/local/lib/python3.11/dist-packages (from matplotlib->pingouin) (4.57.0)\n",
            "Requirement already satisfied: kiwisolver>=1.3.1 in /usr/local/lib/python3.11/dist-packages (from matplotlib->pingouin) (1.4.8)\n",
            "Requirement already satisfied: packaging>=20.0 in /usr/local/lib/python3.11/dist-packages (from matplotlib->pingouin) (24.2)\n",
            "Requirement already satisfied: pillow>=8 in /usr/local/lib/python3.11/dist-packages (from matplotlib->pingouin) (11.1.0)\n",
            "Requirement already satisfied: pyparsing>=2.3.1 in /usr/local/lib/python3.11/dist-packages (from matplotlib->pingouin) (3.2.3)\n",
            "Requirement already satisfied: xarray in /usr/local/lib/python3.11/dist-packages (from pandas-flavor->pingouin) (2025.1.2)\n",
            "Requirement already satisfied: patsy>=0.5.6 in /usr/local/lib/python3.11/dist-packages (from statsmodels->pingouin) (1.0.1)\n",
            "Requirement already satisfied: six>=1.5 in /usr/local/lib/python3.11/dist-packages (from python-dateutil>=2.8.2->pandas>=1.5->pingouin) (1.17.0)\n",
            "Downloading pingouin-0.5.5-py3-none-any.whl (204 kB)\n",
            "\u001b[2K   \u001b[90m━━━━━━━━━━━━━━━━━━━━━━━━━━━━━━━━━━━━━━━━\u001b[0m \u001b[32m204.4/204.4 kB\u001b[0m \u001b[31m5.3 MB/s\u001b[0m eta \u001b[36m0:00:00\u001b[0m\n",
            "\u001b[?25hDownloading pandas_flavor-0.7.0-py3-none-any.whl (8.4 kB)\n",
            "Installing collected packages: pandas-flavor, pingouin\n",
            "Successfully installed pandas-flavor-0.7.0 pingouin-0.5.5\n"
          ]
        }
      ]
    },
    {
      "cell_type": "code",
      "source": [
        "import pandas as pd\n",
        "import pingouin as pg\n",
        "import statsmodels.api as sm\n",
        "from statsmodels.stats.outliers_influence import OLSInfluence, variance_inflation_factor\n",
        "import scipy as sci\n",
        "from scipy.stats import f\n",
        "import scipy.stats as stats\n",
        "import numpy as np\n",
        "import matplotlib.pyplot as plt\n",
        "import seaborn as sns\n",
        "from sklearn.linear_model import LinearRegression\n",
        "import pandas as pd #manipulação de dados em formato de dataframe\n",
        "import seaborn as sns #biblioteca de visualização de informações estatísticas\n",
        "import matplotlib.pyplot as plt #biblioteca de visualização de dados\n",
        "import statsmodels.api as sm #biblioteca de modelagem estatística\n",
        "import numpy as np #biblioteca para operações matemáticas multidimensionais\n",
        "from scipy import stats #testes estatísticos\n",
        "from statsmodels.iolib.summary2 import summary_col #comparação entre modelos\n",
        "import plotly.graph_objs as go #gráfico 3D\n",
        "from scipy.stats import pearsonr #correlações de Pearson\n",
        "from statstests.process import stepwise #procedimento Stepwise\n",
        "from scipy.stats import shapiro #teste de Shapiro-Wilk\n",
        "from statstests.tests import shapiro_francia #teste de Shapiro-Francia\n",
        "from statsmodels.stats.outliers_influence import variance_inflation_factor #diagnóstico de multicolinearidade\n",
        "from statsmodels.stats.stattools import durbin_watson #teste de Durbin-Watson\n",
        "import statsmodels.stats.diagnostic as dg #teste de Breusch-Godfrey\n",
        "from scipy.stats import norm #para plotagem da distribuição normal no histograma\n",
        "import statsmodels.formula.api as smf #regressão quantílica"
      ],
      "metadata": {
        "id": "rAlqa-5AcA0c"
      },
      "execution_count": 20,
      "outputs": []
    },
    {
      "cell_type": "code",
      "source": [
        "qb = pd.read_excel('QB.xlsx')"
      ],
      "metadata": {
        "id": "5KBTuCvycHfC"
      },
      "execution_count": 4,
      "outputs": []
    },
    {
      "cell_type": "code",
      "source": [
        "qb.head()"
      ],
      "metadata": {
        "colab": {
          "base_uri": "https://localhost:8080/",
          "height": 206
        },
        "id": "PI7sZtP0cLGQ",
        "outputId": "7bfca210-093a-441b-d112-91bb8da44174"
      },
      "execution_count": 5,
      "outputs": [
        {
          "output_type": "execute_result",
          "data": {
            "text/plain": [
              "           Jogador Time  Tent  Compl  Por Tent  TD  PerTD  Int     PF\n",
              "0    Philip Rivers   SD   478    312      8.39  34    7.1   11  105.5\n",
              "1  Chad Pennington  MIA   476    321      7.67  19    4.0    7   97.4\n",
              "2      Kurt Warner  ARI   598    401      7.66  30    5.0   14   96.9\n",
              "3       Drew Brees   NO   635    413      7.98  34    5.4   17   96.2\n",
              "4   Peyton Manning  IND   555    371      7.21  27    4.9   12   95.0"
            ],
            "text/html": [
              "\n",
              "  <div id=\"df-5b803dc4-90fc-408f-84e6-3d8807c700e7\" class=\"colab-df-container\">\n",
              "    <div>\n",
              "<style scoped>\n",
              "    .dataframe tbody tr th:only-of-type {\n",
              "        vertical-align: middle;\n",
              "    }\n",
              "\n",
              "    .dataframe tbody tr th {\n",
              "        vertical-align: top;\n",
              "    }\n",
              "\n",
              "    .dataframe thead th {\n",
              "        text-align: right;\n",
              "    }\n",
              "</style>\n",
              "<table border=\"1\" class=\"dataframe\">\n",
              "  <thead>\n",
              "    <tr style=\"text-align: right;\">\n",
              "      <th></th>\n",
              "      <th>Jogador</th>\n",
              "      <th>Time</th>\n",
              "      <th>Tent</th>\n",
              "      <th>Compl</th>\n",
              "      <th>Por Tent</th>\n",
              "      <th>TD</th>\n",
              "      <th>PerTD</th>\n",
              "      <th>Int</th>\n",
              "      <th>PF</th>\n",
              "    </tr>\n",
              "  </thead>\n",
              "  <tbody>\n",
              "    <tr>\n",
              "      <th>0</th>\n",
              "      <td>Philip Rivers</td>\n",
              "      <td>SD</td>\n",
              "      <td>478</td>\n",
              "      <td>312</td>\n",
              "      <td>8.39</td>\n",
              "      <td>34</td>\n",
              "      <td>7.1</td>\n",
              "      <td>11</td>\n",
              "      <td>105.5</td>\n",
              "    </tr>\n",
              "    <tr>\n",
              "      <th>1</th>\n",
              "      <td>Chad Pennington</td>\n",
              "      <td>MIA</td>\n",
              "      <td>476</td>\n",
              "      <td>321</td>\n",
              "      <td>7.67</td>\n",
              "      <td>19</td>\n",
              "      <td>4.0</td>\n",
              "      <td>7</td>\n",
              "      <td>97.4</td>\n",
              "    </tr>\n",
              "    <tr>\n",
              "      <th>2</th>\n",
              "      <td>Kurt Warner</td>\n",
              "      <td>ARI</td>\n",
              "      <td>598</td>\n",
              "      <td>401</td>\n",
              "      <td>7.66</td>\n",
              "      <td>30</td>\n",
              "      <td>5.0</td>\n",
              "      <td>14</td>\n",
              "      <td>96.9</td>\n",
              "    </tr>\n",
              "    <tr>\n",
              "      <th>3</th>\n",
              "      <td>Drew Brees</td>\n",
              "      <td>NO</td>\n",
              "      <td>635</td>\n",
              "      <td>413</td>\n",
              "      <td>7.98</td>\n",
              "      <td>34</td>\n",
              "      <td>5.4</td>\n",
              "      <td>17</td>\n",
              "      <td>96.2</td>\n",
              "    </tr>\n",
              "    <tr>\n",
              "      <th>4</th>\n",
              "      <td>Peyton Manning</td>\n",
              "      <td>IND</td>\n",
              "      <td>555</td>\n",
              "      <td>371</td>\n",
              "      <td>7.21</td>\n",
              "      <td>27</td>\n",
              "      <td>4.9</td>\n",
              "      <td>12</td>\n",
              "      <td>95.0</td>\n",
              "    </tr>\n",
              "  </tbody>\n",
              "</table>\n",
              "</div>\n",
              "    <div class=\"colab-df-buttons\">\n",
              "\n",
              "  <div class=\"colab-df-container\">\n",
              "    <button class=\"colab-df-convert\" onclick=\"convertToInteractive('df-5b803dc4-90fc-408f-84e6-3d8807c700e7')\"\n",
              "            title=\"Convert this dataframe to an interactive table.\"\n",
              "            style=\"display:none;\">\n",
              "\n",
              "  <svg xmlns=\"http://www.w3.org/2000/svg\" height=\"24px\" viewBox=\"0 -960 960 960\">\n",
              "    <path d=\"M120-120v-720h720v720H120Zm60-500h600v-160H180v160Zm220 220h160v-160H400v160Zm0 220h160v-160H400v160ZM180-400h160v-160H180v160Zm440 0h160v-160H620v160ZM180-180h160v-160H180v160Zm440 0h160v-160H620v160Z\"/>\n",
              "  </svg>\n",
              "    </button>\n",
              "\n",
              "  <style>\n",
              "    .colab-df-container {\n",
              "      display:flex;\n",
              "      gap: 12px;\n",
              "    }\n",
              "\n",
              "    .colab-df-convert {\n",
              "      background-color: #E8F0FE;\n",
              "      border: none;\n",
              "      border-radius: 50%;\n",
              "      cursor: pointer;\n",
              "      display: none;\n",
              "      fill: #1967D2;\n",
              "      height: 32px;\n",
              "      padding: 0 0 0 0;\n",
              "      width: 32px;\n",
              "    }\n",
              "\n",
              "    .colab-df-convert:hover {\n",
              "      background-color: #E2EBFA;\n",
              "      box-shadow: 0px 1px 2px rgba(60, 64, 67, 0.3), 0px 1px 3px 1px rgba(60, 64, 67, 0.15);\n",
              "      fill: #174EA6;\n",
              "    }\n",
              "\n",
              "    .colab-df-buttons div {\n",
              "      margin-bottom: 4px;\n",
              "    }\n",
              "\n",
              "    [theme=dark] .colab-df-convert {\n",
              "      background-color: #3B4455;\n",
              "      fill: #D2E3FC;\n",
              "    }\n",
              "\n",
              "    [theme=dark] .colab-df-convert:hover {\n",
              "      background-color: #434B5C;\n",
              "      box-shadow: 0px 1px 3px 1px rgba(0, 0, 0, 0.15);\n",
              "      filter: drop-shadow(0px 1px 2px rgba(0, 0, 0, 0.3));\n",
              "      fill: #FFFFFF;\n",
              "    }\n",
              "  </style>\n",
              "\n",
              "    <script>\n",
              "      const buttonEl =\n",
              "        document.querySelector('#df-5b803dc4-90fc-408f-84e6-3d8807c700e7 button.colab-df-convert');\n",
              "      buttonEl.style.display =\n",
              "        google.colab.kernel.accessAllowed ? 'block' : 'none';\n",
              "\n",
              "      async function convertToInteractive(key) {\n",
              "        const element = document.querySelector('#df-5b803dc4-90fc-408f-84e6-3d8807c700e7');\n",
              "        const dataTable =\n",
              "          await google.colab.kernel.invokeFunction('convertToInteractive',\n",
              "                                                    [key], {});\n",
              "        if (!dataTable) return;\n",
              "\n",
              "        const docLinkHtml = 'Like what you see? Visit the ' +\n",
              "          '<a target=\"_blank\" href=https://colab.research.google.com/notebooks/data_table.ipynb>data table notebook</a>'\n",
              "          + ' to learn more about interactive tables.';\n",
              "        element.innerHTML = '';\n",
              "        dataTable['output_type'] = 'display_data';\n",
              "        await google.colab.output.renderOutput(dataTable, element);\n",
              "        const docLink = document.createElement('div');\n",
              "        docLink.innerHTML = docLinkHtml;\n",
              "        element.appendChild(docLink);\n",
              "      }\n",
              "    </script>\n",
              "  </div>\n",
              "\n",
              "\n",
              "<div id=\"df-458a4e36-4c9c-478f-bc87-3ce89cab0d59\">\n",
              "  <button class=\"colab-df-quickchart\" onclick=\"quickchart('df-458a4e36-4c9c-478f-bc87-3ce89cab0d59')\"\n",
              "            title=\"Suggest charts\"\n",
              "            style=\"display:none;\">\n",
              "\n",
              "<svg xmlns=\"http://www.w3.org/2000/svg\" height=\"24px\"viewBox=\"0 0 24 24\"\n",
              "     width=\"24px\">\n",
              "    <g>\n",
              "        <path d=\"M19 3H5c-1.1 0-2 .9-2 2v14c0 1.1.9 2 2 2h14c1.1 0 2-.9 2-2V5c0-1.1-.9-2-2-2zM9 17H7v-7h2v7zm4 0h-2V7h2v10zm4 0h-2v-4h2v4z\"/>\n",
              "    </g>\n",
              "</svg>\n",
              "  </button>\n",
              "\n",
              "<style>\n",
              "  .colab-df-quickchart {\n",
              "      --bg-color: #E8F0FE;\n",
              "      --fill-color: #1967D2;\n",
              "      --hover-bg-color: #E2EBFA;\n",
              "      --hover-fill-color: #174EA6;\n",
              "      --disabled-fill-color: #AAA;\n",
              "      --disabled-bg-color: #DDD;\n",
              "  }\n",
              "\n",
              "  [theme=dark] .colab-df-quickchart {\n",
              "      --bg-color: #3B4455;\n",
              "      --fill-color: #D2E3FC;\n",
              "      --hover-bg-color: #434B5C;\n",
              "      --hover-fill-color: #FFFFFF;\n",
              "      --disabled-bg-color: #3B4455;\n",
              "      --disabled-fill-color: #666;\n",
              "  }\n",
              "\n",
              "  .colab-df-quickchart {\n",
              "    background-color: var(--bg-color);\n",
              "    border: none;\n",
              "    border-radius: 50%;\n",
              "    cursor: pointer;\n",
              "    display: none;\n",
              "    fill: var(--fill-color);\n",
              "    height: 32px;\n",
              "    padding: 0;\n",
              "    width: 32px;\n",
              "  }\n",
              "\n",
              "  .colab-df-quickchart:hover {\n",
              "    background-color: var(--hover-bg-color);\n",
              "    box-shadow: 0 1px 2px rgba(60, 64, 67, 0.3), 0 1px 3px 1px rgba(60, 64, 67, 0.15);\n",
              "    fill: var(--button-hover-fill-color);\n",
              "  }\n",
              "\n",
              "  .colab-df-quickchart-complete:disabled,\n",
              "  .colab-df-quickchart-complete:disabled:hover {\n",
              "    background-color: var(--disabled-bg-color);\n",
              "    fill: var(--disabled-fill-color);\n",
              "    box-shadow: none;\n",
              "  }\n",
              "\n",
              "  .colab-df-spinner {\n",
              "    border: 2px solid var(--fill-color);\n",
              "    border-color: transparent;\n",
              "    border-bottom-color: var(--fill-color);\n",
              "    animation:\n",
              "      spin 1s steps(1) infinite;\n",
              "  }\n",
              "\n",
              "  @keyframes spin {\n",
              "    0% {\n",
              "      border-color: transparent;\n",
              "      border-bottom-color: var(--fill-color);\n",
              "      border-left-color: var(--fill-color);\n",
              "    }\n",
              "    20% {\n",
              "      border-color: transparent;\n",
              "      border-left-color: var(--fill-color);\n",
              "      border-top-color: var(--fill-color);\n",
              "    }\n",
              "    30% {\n",
              "      border-color: transparent;\n",
              "      border-left-color: var(--fill-color);\n",
              "      border-top-color: var(--fill-color);\n",
              "      border-right-color: var(--fill-color);\n",
              "    }\n",
              "    40% {\n",
              "      border-color: transparent;\n",
              "      border-right-color: var(--fill-color);\n",
              "      border-top-color: var(--fill-color);\n",
              "    }\n",
              "    60% {\n",
              "      border-color: transparent;\n",
              "      border-right-color: var(--fill-color);\n",
              "    }\n",
              "    80% {\n",
              "      border-color: transparent;\n",
              "      border-right-color: var(--fill-color);\n",
              "      border-bottom-color: var(--fill-color);\n",
              "    }\n",
              "    90% {\n",
              "      border-color: transparent;\n",
              "      border-bottom-color: var(--fill-color);\n",
              "    }\n",
              "  }\n",
              "</style>\n",
              "\n",
              "  <script>\n",
              "    async function quickchart(key) {\n",
              "      const quickchartButtonEl =\n",
              "        document.querySelector('#' + key + ' button');\n",
              "      quickchartButtonEl.disabled = true;  // To prevent multiple clicks.\n",
              "      quickchartButtonEl.classList.add('colab-df-spinner');\n",
              "      try {\n",
              "        const charts = await google.colab.kernel.invokeFunction(\n",
              "            'suggestCharts', [key], {});\n",
              "      } catch (error) {\n",
              "        console.error('Error during call to suggestCharts:', error);\n",
              "      }\n",
              "      quickchartButtonEl.classList.remove('colab-df-spinner');\n",
              "      quickchartButtonEl.classList.add('colab-df-quickchart-complete');\n",
              "    }\n",
              "    (() => {\n",
              "      let quickchartButtonEl =\n",
              "        document.querySelector('#df-458a4e36-4c9c-478f-bc87-3ce89cab0d59 button');\n",
              "      quickchartButtonEl.style.display =\n",
              "        google.colab.kernel.accessAllowed ? 'block' : 'none';\n",
              "    })();\n",
              "  </script>\n",
              "</div>\n",
              "\n",
              "    </div>\n",
              "  </div>\n"
            ],
            "application/vnd.google.colaboratory.intrinsic+json": {
              "type": "dataframe",
              "variable_name": "qb",
              "summary": "{\n  \"name\": \"qb\",\n  \"rows\": 32,\n  \"fields\": [\n    {\n      \"column\": \"Jogador\",\n      \"properties\": {\n        \"dtype\": \"string\",\n        \"num_unique_values\": 32,\n        \"samples\": [\n          \"Marc Bulger\",\n          \"Jay Cutler\",\n          \"Kyle Orton\"\n        ],\n        \"semantic_type\": \"\",\n        \"description\": \"\"\n      }\n    },\n    {\n      \"column\": \"Time\",\n      \"properties\": {\n        \"dtype\": \"string\",\n        \"num_unique_values\": 32,\n        \"samples\": [\n          \"STL\",\n          \"DEN\",\n          \"CHI\"\n        ],\n        \"semantic_type\": \"\",\n        \"description\": \"\"\n      }\n    },\n    {\n      \"column\": \"Tent\",\n      \"properties\": {\n        \"dtype\": \"number\",\n        \"std\": 101,\n        \"min\": 242,\n        \"max\": 635,\n        \"num_unique_values\": 30,\n        \"samples\": [\n          255,\n          616,\n          469\n        ],\n        \"semantic_type\": \"\",\n        \"description\": \"\"\n      }\n    },\n    {\n      \"column\": \"Compl\",\n      \"properties\": {\n        \"dtype\": \"number\",\n        \"std\": 73,\n        \"min\": 141,\n        \"max\": 413,\n        \"num_unique_values\": 29,\n        \"samples\": [\n          221,\n          245,\n          141\n        ],\n        \"semantic_type\": \"\",\n        \"description\": \"\"\n      }\n    },\n    {\n      \"column\": \"Por Tent\",\n      \"properties\": {\n        \"dtype\": \"number\",\n        \"std\": 0.7823980274688177,\n        \"min\": 5.12,\n        \"max\": 8.39,\n        \"num_unique_values\": 31,\n        \"samples\": [\n          5.63,\n          7.22,\n          6.7\n        ],\n        \"semantic_type\": \"\",\n        \"description\": \"\"\n      }\n    },\n    {\n      \"column\": \"TD\",\n      \"properties\": {\n        \"dtype\": \"number\",\n        \"std\": 7,\n        \"min\": 8,\n        \"max\": 34,\n        \"num_unique_values\": 20,\n        \"samples\": [\n          34,\n          18,\n          14\n        ],\n        \"semantic_type\": \"\",\n        \"description\": \"\"\n      }\n    },\n    {\n      \"column\": \"PerTD\",\n      \"properties\": {\n        \"dtype\": \"number\",\n        \"std\": 0.9883545710242433,\n        \"min\": 2.6,\n        \"max\": 7.1,\n        \"num_unique_values\": 23,\n        \"samples\": [\n          2.6,\n          4.1,\n          7.1\n        ],\n        \"semantic_type\": \"\",\n        \"description\": \"\"\n      }\n    },\n    {\n      \"column\": \"Int\",\n      \"properties\": {\n        \"dtype\": \"number\",\n        \"std\": 3,\n        \"min\": 6,\n        \"max\": 22,\n        \"num_unique_values\": 13,\n        \"samples\": [\n          22,\n          9,\n          11\n        ],\n        \"semantic_type\": \"\",\n        \"description\": \"\"\n      }\n    },\n    {\n      \"column\": \"PF\",\n      \"properties\": {\n        \"dtype\": \"number\",\n        \"std\": 8.874750678006352,\n        \"min\": 66.5,\n        \"max\": 105.5,\n        \"num_unique_values\": 30,\n        \"samples\": [\n          71.4,\n          85.7,\n          79.6\n        ],\n        \"semantic_type\": \"\",\n        \"description\": \"\"\n      }\n    }\n  ]\n}"
            }
          },
          "metadata": {},
          "execution_count": 5
        }
      ]
    },
    {
      "cell_type": "code",
      "source": [
        "X = qb[['Tent','Compl','Por Tent','TD','PerTD','Int']]\n",
        "\n",
        "Y = qb[['PF']]"
      ],
      "metadata": {
        "id": "LHe-YethcMts"
      },
      "execution_count": 12,
      "outputs": []
    },
    {
      "cell_type": "code",
      "source": [
        "modelo=(sm.OLS(Y,sm.add_constant(X)).fit())\n",
        "modelo.summary(title='Sumario')"
      ],
      "metadata": {
        "colab": {
          "base_uri": "https://localhost:8080/",
          "height": 593
        },
        "id": "zMoEAkTccO85",
        "outputId": "05c234dd-b7fe-4609-a923-8a0f8b3dfd0d"
      },
      "execution_count": 13,
      "outputs": [
        {
          "output_type": "execute_result",
          "data": {
            "text/plain": [
              "<class 'statsmodels.iolib.summary.Summary'>\n",
              "\"\"\"\n",
              "                                   Sumario                                    \n",
              "==============================================================================\n",
              "Dep. Variable:                     PF   R-squared:                       0.920\n",
              "Model:                            OLS   Adj. R-squared:                  0.900\n",
              "Method:                 Least Squares   F-statistic:                     47.70\n",
              "Date:                Wed, 23 Apr 2025   Prob (F-statistic):           1.72e-12\n",
              "Time:                        11:45:06   Log-Likelihood:                -74.416\n",
              "No. Observations:                  32   AIC:                             162.8\n",
              "Df Residuals:                      25   BIC:                             173.1\n",
              "Df Model:                           6                                         \n",
              "Covariance Type:            nonrobust                                         \n",
              "==============================================================================\n",
              "                 coef    std err          t      P>|t|      [0.025      0.975]\n",
              "------------------------------------------------------------------------------\n",
              "const         21.9484     12.428      1.766      0.090      -3.647      47.543\n",
              "Tent          -0.0250      0.030     -0.824      0.418      -0.088       0.038\n",
              "Compl          0.1563      0.037      4.258      0.000       0.081       0.232\n",
              "Por Tent       3.9072      0.933      4.188      0.000       1.986       5.829\n",
              "TD            -1.1133      0.699     -1.593      0.124      -2.552       0.326\n",
              "PerTD          8.9247      3.429      2.603      0.015       1.863      15.987\n",
              "Int           -1.0204      0.169     -6.042      0.000      -1.368      -0.673\n",
              "==============================================================================\n",
              "Omnibus:                        0.334   Durbin-Watson:                   2.299\n",
              "Prob(Omnibus):                  0.846   Jarque-Bera (JB):                0.230\n",
              "Skew:                           0.192   Prob(JB):                        0.891\n",
              "Kurtosis:                       2.841   Cond. No.                     1.39e+04\n",
              "==============================================================================\n",
              "\n",
              "Notes:\n",
              "[1] Standard Errors assume that the covariance matrix of the errors is correctly specified.\n",
              "[2] The condition number is large, 1.39e+04. This might indicate that there are\n",
              "strong multicollinearity or other numerical problems.\n",
              "\"\"\""
            ],
            "text/html": [
              "<table class=\"simpletable\">\n",
              "<caption>Sumario</caption>\n",
              "<tr>\n",
              "  <th>Dep. Variable:</th>           <td>PF</td>        <th>  R-squared:         </th> <td>   0.920</td>\n",
              "</tr>\n",
              "<tr>\n",
              "  <th>Model:</th>                   <td>OLS</td>       <th>  Adj. R-squared:    </th> <td>   0.900</td>\n",
              "</tr>\n",
              "<tr>\n",
              "  <th>Method:</th>             <td>Least Squares</td>  <th>  F-statistic:       </th> <td>   47.70</td>\n",
              "</tr>\n",
              "<tr>\n",
              "  <th>Date:</th>             <td>Wed, 23 Apr 2025</td> <th>  Prob (F-statistic):</th> <td>1.72e-12</td>\n",
              "</tr>\n",
              "<tr>\n",
              "  <th>Time:</th>                 <td>11:45:06</td>     <th>  Log-Likelihood:    </th> <td> -74.416</td>\n",
              "</tr>\n",
              "<tr>\n",
              "  <th>No. Observations:</th>      <td>    32</td>      <th>  AIC:               </th> <td>   162.8</td>\n",
              "</tr>\n",
              "<tr>\n",
              "  <th>Df Residuals:</th>          <td>    25</td>      <th>  BIC:               </th> <td>   173.1</td>\n",
              "</tr>\n",
              "<tr>\n",
              "  <th>Df Model:</th>              <td>     6</td>      <th>                     </th>     <td> </td>   \n",
              "</tr>\n",
              "<tr>\n",
              "  <th>Covariance Type:</th>      <td>nonrobust</td>    <th>                     </th>     <td> </td>   \n",
              "</tr>\n",
              "</table>\n",
              "<table class=\"simpletable\">\n",
              "<tr>\n",
              "      <td></td>        <th>coef</th>     <th>std err</th>      <th>t</th>      <th>P>|t|</th>  <th>[0.025</th>    <th>0.975]</th>  \n",
              "</tr>\n",
              "<tr>\n",
              "  <th>const</th>    <td>   21.9484</td> <td>   12.428</td> <td>    1.766</td> <td> 0.090</td> <td>   -3.647</td> <td>   47.543</td>\n",
              "</tr>\n",
              "<tr>\n",
              "  <th>Tent</th>     <td>   -0.0250</td> <td>    0.030</td> <td>   -0.824</td> <td> 0.418</td> <td>   -0.088</td> <td>    0.038</td>\n",
              "</tr>\n",
              "<tr>\n",
              "  <th>Compl</th>    <td>    0.1563</td> <td>    0.037</td> <td>    4.258</td> <td> 0.000</td> <td>    0.081</td> <td>    0.232</td>\n",
              "</tr>\n",
              "<tr>\n",
              "  <th>Por Tent</th> <td>    3.9072</td> <td>    0.933</td> <td>    4.188</td> <td> 0.000</td> <td>    1.986</td> <td>    5.829</td>\n",
              "</tr>\n",
              "<tr>\n",
              "  <th>TD</th>       <td>   -1.1133</td> <td>    0.699</td> <td>   -1.593</td> <td> 0.124</td> <td>   -2.552</td> <td>    0.326</td>\n",
              "</tr>\n",
              "<tr>\n",
              "  <th>PerTD</th>    <td>    8.9247</td> <td>    3.429</td> <td>    2.603</td> <td> 0.015</td> <td>    1.863</td> <td>   15.987</td>\n",
              "</tr>\n",
              "<tr>\n",
              "  <th>Int</th>      <td>   -1.0204</td> <td>    0.169</td> <td>   -6.042</td> <td> 0.000</td> <td>   -1.368</td> <td>   -0.673</td>\n",
              "</tr>\n",
              "</table>\n",
              "<table class=\"simpletable\">\n",
              "<tr>\n",
              "  <th>Omnibus:</th>       <td> 0.334</td> <th>  Durbin-Watson:     </th> <td>   2.299</td>\n",
              "</tr>\n",
              "<tr>\n",
              "  <th>Prob(Omnibus):</th> <td> 0.846</td> <th>  Jarque-Bera (JB):  </th> <td>   0.230</td>\n",
              "</tr>\n",
              "<tr>\n",
              "  <th>Skew:</th>          <td> 0.192</td> <th>  Prob(JB):          </th> <td>   0.891</td>\n",
              "</tr>\n",
              "<tr>\n",
              "  <th>Kurtosis:</th>      <td> 2.841</td> <th>  Cond. No.          </th> <td>1.39e+04</td>\n",
              "</tr>\n",
              "</table><br/><br/>Notes:<br/>[1] Standard Errors assume that the covariance matrix of the errors is correctly specified.<br/>[2] The condition number is large, 1.39e+04. This might indicate that there are<br/>strong multicollinearity or other numerical problems."
            ],
            "text/latex": "\\begin{center}\n\\begin{tabular}{lclc}\n\\toprule\n\\textbf{Dep. Variable:}    &        PF        & \\textbf{  R-squared:         } &     0.920   \\\\\n\\textbf{Model:}            &       OLS        & \\textbf{  Adj. R-squared:    } &     0.900   \\\\\n\\textbf{Method:}           &  Least Squares   & \\textbf{  F-statistic:       } &     47.70   \\\\\n\\textbf{Date:}             & Wed, 23 Apr 2025 & \\textbf{  Prob (F-statistic):} &  1.72e-12   \\\\\n\\textbf{Time:}             &     11:45:06     & \\textbf{  Log-Likelihood:    } &   -74.416   \\\\\n\\textbf{No. Observations:} &          32      & \\textbf{  AIC:               } &     162.8   \\\\\n\\textbf{Df Residuals:}     &          25      & \\textbf{  BIC:               } &     173.1   \\\\\n\\textbf{Df Model:}         &           6      & \\textbf{                     } &             \\\\\n\\textbf{Covariance Type:}  &    nonrobust     & \\textbf{                     } &             \\\\\n\\bottomrule\n\\end{tabular}\n\\begin{tabular}{lcccccc}\n                  & \\textbf{coef} & \\textbf{std err} & \\textbf{t} & \\textbf{P$> |$t$|$} & \\textbf{[0.025} & \\textbf{0.975]}  \\\\\n\\midrule\n\\textbf{const}    &      21.9484  &       12.428     &     1.766  &         0.090        &       -3.647    &       47.543     \\\\\n\\textbf{Tent}     &      -0.0250  &        0.030     &    -0.824  &         0.418        &       -0.088    &        0.038     \\\\\n\\textbf{Compl}    &       0.1563  &        0.037     &     4.258  &         0.000        &        0.081    &        0.232     \\\\\n\\textbf{Por Tent} &       3.9072  &        0.933     &     4.188  &         0.000        &        1.986    &        5.829     \\\\\n\\textbf{TD}       &      -1.1133  &        0.699     &    -1.593  &         0.124        &       -2.552    &        0.326     \\\\\n\\textbf{PerTD}    &       8.9247  &        3.429     &     2.603  &         0.015        &        1.863    &       15.987     \\\\\n\\textbf{Int}      &      -1.0204  &        0.169     &    -6.042  &         0.000        &       -1.368    &       -0.673     \\\\\n\\bottomrule\n\\end{tabular}\n\\begin{tabular}{lclc}\n\\textbf{Omnibus:}       &  0.334 & \\textbf{  Durbin-Watson:     } &    2.299  \\\\\n\\textbf{Prob(Omnibus):} &  0.846 & \\textbf{  Jarque-Bera (JB):  } &    0.230  \\\\\n\\textbf{Skew:}          &  0.192 & \\textbf{  Prob(JB):          } &    0.891  \\\\\n\\textbf{Kurtosis:}      &  2.841 & \\textbf{  Cond. No.          } & 1.39e+04  \\\\\n\\bottomrule\n\\end{tabular}\n%\\caption{Sumario}\n\\end{center}\n\nNotes: \\newline\n [1] Standard Errors assume that the covariance matrix of the errors is correctly specified. \\newline\n [2] The condition number is large, 1.39e+04. This might indicate that there are \\newline\n strong multicollinearity or other numerical problems."
          },
          "metadata": {},
          "execution_count": 13
        }
      ]
    },
    {
      "cell_type": "code",
      "source": [
        "#Pelo sumário podemos ver que as variaveis Numero de Tentativas e Numero de pases para Touchdowns não são signficativas\n",
        "#para um nivel de significancia de 5%, portanto vamos utiliazar o metodo stepwise para estimar o modelo apenas com as\n",
        "#variaveis significativas"
      ],
      "metadata": {
        "id": "GOqtNPyMcbWk"
      },
      "execution_count": 8,
      "outputs": []
    },
    {
      "cell_type": "code",
      "source": [
        "# Estimação do modelo por meio do procedimento Stepwise\n",
        "modelo_completo = stepwise(modelo, pvalue_limit=0.05)\n",
        "\n",
        "# Parâmetros do 'modelo_completo' (output já obtido no código anterior)\n",
        "modelo_completo.summary()"
      ],
      "metadata": {
        "colab": {
          "base_uri": "https://localhost:8080/",
          "height": 1000
        },
        "id": "N_rgIAoJcmmE",
        "outputId": "95fae6fa-46c3-44a3-b9dc-8594deb48fce"
      },
      "execution_count": 9,
      "outputs": [
        {
          "output_type": "stream",
          "name": "stdout",
          "text": [
            "Regression type: OLS \n",
            "\n",
            "Estimating model...: \n",
            " PF ~ Q('Tent') + Q('Compl') + Q('Por Tent') + Q('TD') + Q('PerTD') + Q('Int')\n",
            "\n",
            " Discarding atribute \"Q('Tent')\" with p-value equal to 0.4176987574478267 \n",
            "\n",
            "Estimating model...: \n",
            " PF ~ Q('Compl') + Q('Por Tent') + Q('TD') + Q('PerTD') + Q('Int')\n",
            "\n",
            " No more atributes with p-value higher than 0.05\n",
            "\n",
            " Atributes discarded on the process...: \n",
            "\n",
            "{'atribute': \"Q('Tent')\", 'p-value': 0.4176987574478267}\n",
            "\n",
            " Model after stepwise process...: \n",
            " PF ~ Q('Compl') + Q('Por Tent') + Q('TD') + Q('PerTD') + Q('Int') \n",
            "\n",
            "                            OLS Regression Results                            \n",
            "==============================================================================\n",
            "Dep. Variable:                     PF   R-squared:                       0.917\n",
            "Model:                            OLS   Adj. R-squared:                  0.902\n",
            "Method:                 Least Squares   F-statistic:                     57.82\n",
            "Date:                Wed, 23 Apr 2025   Prob (F-statistic):           2.95e-13\n",
            "Time:                        11:41:09   Log-Likelihood:                -74.845\n",
            "No. Observations:                  32   AIC:                             161.7\n",
            "Df Residuals:                      26   BIC:                             170.5\n",
            "Df Model:                           5                                         \n",
            "Covariance Type:            nonrobust                                         \n",
            "=================================================================================\n",
            "                    coef    std err          t      P>|t|      [0.025      0.975]\n",
            "---------------------------------------------------------------------------------\n",
            "Intercept        14.1731      8.038      1.763      0.090      -2.349      30.696\n",
            "Q('Compl')        0.1424      0.032      4.394      0.000       0.076       0.209\n",
            "Q('Por Tent')     3.8820      0.927      4.189      0.000       1.977       5.787\n",
            "Q('TD')          -1.4731      0.542     -2.717      0.012      -2.587      -0.359\n",
            "Q('PerTD')       10.7021      2.649      4.040      0.000       5.257      16.148\n",
            "Q('Int')         -1.0217      0.168     -6.088      0.000      -1.367      -0.677\n",
            "==============================================================================\n",
            "Omnibus:                        0.272   Durbin-Watson:                   2.453\n",
            "Prob(Omnibus):                  0.873   Jarque-Bera (JB):                0.279\n",
            "Skew:                           0.190   Prob(JB):                        0.870\n",
            "Kurtosis:                       2.747   Cond. No.                     4.80e+03\n",
            "==============================================================================\n",
            "\n",
            "Notes:\n",
            "[1] Standard Errors assume that the covariance matrix of the errors is correctly specified.\n",
            "[2] The condition number is large, 4.8e+03. This might indicate that there are\n",
            "strong multicollinearity or other numerical problems.\n"
          ]
        },
        {
          "output_type": "execute_result",
          "data": {
            "text/plain": [
              "<class 'statsmodels.iolib.summary.Summary'>\n",
              "\"\"\"\n",
              "                            OLS Regression Results                            \n",
              "==============================================================================\n",
              "Dep. Variable:                     PF   R-squared:                       0.917\n",
              "Model:                            OLS   Adj. R-squared:                  0.902\n",
              "Method:                 Least Squares   F-statistic:                     57.82\n",
              "Date:                Wed, 23 Apr 2025   Prob (F-statistic):           2.95e-13\n",
              "Time:                        11:41:09   Log-Likelihood:                -74.845\n",
              "No. Observations:                  32   AIC:                             161.7\n",
              "Df Residuals:                      26   BIC:                             170.5\n",
              "Df Model:                           5                                         \n",
              "Covariance Type:            nonrobust                                         \n",
              "=================================================================================\n",
              "                    coef    std err          t      P>|t|      [0.025      0.975]\n",
              "---------------------------------------------------------------------------------\n",
              "Intercept        14.1731      8.038      1.763      0.090      -2.349      30.696\n",
              "Q('Compl')        0.1424      0.032      4.394      0.000       0.076       0.209\n",
              "Q('Por Tent')     3.8820      0.927      4.189      0.000       1.977       5.787\n",
              "Q('TD')          -1.4731      0.542     -2.717      0.012      -2.587      -0.359\n",
              "Q('PerTD')       10.7021      2.649      4.040      0.000       5.257      16.148\n",
              "Q('Int')         -1.0217      0.168     -6.088      0.000      -1.367      -0.677\n",
              "==============================================================================\n",
              "Omnibus:                        0.272   Durbin-Watson:                   2.453\n",
              "Prob(Omnibus):                  0.873   Jarque-Bera (JB):                0.279\n",
              "Skew:                           0.190   Prob(JB):                        0.870\n",
              "Kurtosis:                       2.747   Cond. No.                     4.80e+03\n",
              "==============================================================================\n",
              "\n",
              "Notes:\n",
              "[1] Standard Errors assume that the covariance matrix of the errors is correctly specified.\n",
              "[2] The condition number is large, 4.8e+03. This might indicate that there are\n",
              "strong multicollinearity or other numerical problems.\n",
              "\"\"\""
            ],
            "text/html": [
              "<table class=\"simpletable\">\n",
              "<caption>OLS Regression Results</caption>\n",
              "<tr>\n",
              "  <th>Dep. Variable:</th>           <td>PF</td>        <th>  R-squared:         </th> <td>   0.917</td>\n",
              "</tr>\n",
              "<tr>\n",
              "  <th>Model:</th>                   <td>OLS</td>       <th>  Adj. R-squared:    </th> <td>   0.902</td>\n",
              "</tr>\n",
              "<tr>\n",
              "  <th>Method:</th>             <td>Least Squares</td>  <th>  F-statistic:       </th> <td>   57.82</td>\n",
              "</tr>\n",
              "<tr>\n",
              "  <th>Date:</th>             <td>Wed, 23 Apr 2025</td> <th>  Prob (F-statistic):</th> <td>2.95e-13</td>\n",
              "</tr>\n",
              "<tr>\n",
              "  <th>Time:</th>                 <td>11:41:09</td>     <th>  Log-Likelihood:    </th> <td> -74.845</td>\n",
              "</tr>\n",
              "<tr>\n",
              "  <th>No. Observations:</th>      <td>    32</td>      <th>  AIC:               </th> <td>   161.7</td>\n",
              "</tr>\n",
              "<tr>\n",
              "  <th>Df Residuals:</th>          <td>    26</td>      <th>  BIC:               </th> <td>   170.5</td>\n",
              "</tr>\n",
              "<tr>\n",
              "  <th>Df Model:</th>              <td>     5</td>      <th>                     </th>     <td> </td>   \n",
              "</tr>\n",
              "<tr>\n",
              "  <th>Covariance Type:</th>      <td>nonrobust</td>    <th>                     </th>     <td> </td>   \n",
              "</tr>\n",
              "</table>\n",
              "<table class=\"simpletable\">\n",
              "<tr>\n",
              "        <td></td>           <th>coef</th>     <th>std err</th>      <th>t</th>      <th>P>|t|</th>  <th>[0.025</th>    <th>0.975]</th>  \n",
              "</tr>\n",
              "<tr>\n",
              "  <th>Intercept</th>     <td>   14.1731</td> <td>    8.038</td> <td>    1.763</td> <td> 0.090</td> <td>   -2.349</td> <td>   30.696</td>\n",
              "</tr>\n",
              "<tr>\n",
              "  <th>Q('Compl')</th>    <td>    0.1424</td> <td>    0.032</td> <td>    4.394</td> <td> 0.000</td> <td>    0.076</td> <td>    0.209</td>\n",
              "</tr>\n",
              "<tr>\n",
              "  <th>Q('Por Tent')</th> <td>    3.8820</td> <td>    0.927</td> <td>    4.189</td> <td> 0.000</td> <td>    1.977</td> <td>    5.787</td>\n",
              "</tr>\n",
              "<tr>\n",
              "  <th>Q('TD')</th>       <td>   -1.4731</td> <td>    0.542</td> <td>   -2.717</td> <td> 0.012</td> <td>   -2.587</td> <td>   -0.359</td>\n",
              "</tr>\n",
              "<tr>\n",
              "  <th>Q('PerTD')</th>    <td>   10.7021</td> <td>    2.649</td> <td>    4.040</td> <td> 0.000</td> <td>    5.257</td> <td>   16.148</td>\n",
              "</tr>\n",
              "<tr>\n",
              "  <th>Q('Int')</th>      <td>   -1.0217</td> <td>    0.168</td> <td>   -6.088</td> <td> 0.000</td> <td>   -1.367</td> <td>   -0.677</td>\n",
              "</tr>\n",
              "</table>\n",
              "<table class=\"simpletable\">\n",
              "<tr>\n",
              "  <th>Omnibus:</th>       <td> 0.272</td> <th>  Durbin-Watson:     </th> <td>   2.453</td>\n",
              "</tr>\n",
              "<tr>\n",
              "  <th>Prob(Omnibus):</th> <td> 0.873</td> <th>  Jarque-Bera (JB):  </th> <td>   0.279</td>\n",
              "</tr>\n",
              "<tr>\n",
              "  <th>Skew:</th>          <td> 0.190</td> <th>  Prob(JB):          </th> <td>   0.870</td>\n",
              "</tr>\n",
              "<tr>\n",
              "  <th>Kurtosis:</th>      <td> 2.747</td> <th>  Cond. No.          </th> <td>4.80e+03</td>\n",
              "</tr>\n",
              "</table><br/><br/>Notes:<br/>[1] Standard Errors assume that the covariance matrix of the errors is correctly specified.<br/>[2] The condition number is large, 4.8e+03. This might indicate that there are<br/>strong multicollinearity or other numerical problems."
            ],
            "text/latex": "\\begin{center}\n\\begin{tabular}{lclc}\n\\toprule\n\\textbf{Dep. Variable:}    &        PF        & \\textbf{  R-squared:         } &     0.917   \\\\\n\\textbf{Model:}            &       OLS        & \\textbf{  Adj. R-squared:    } &     0.902   \\\\\n\\textbf{Method:}           &  Least Squares   & \\textbf{  F-statistic:       } &     57.82   \\\\\n\\textbf{Date:}             & Wed, 23 Apr 2025 & \\textbf{  Prob (F-statistic):} &  2.95e-13   \\\\\n\\textbf{Time:}             &     11:41:09     & \\textbf{  Log-Likelihood:    } &   -74.845   \\\\\n\\textbf{No. Observations:} &          32      & \\textbf{  AIC:               } &     161.7   \\\\\n\\textbf{Df Residuals:}     &          26      & \\textbf{  BIC:               } &     170.5   \\\\\n\\textbf{Df Model:}         &           5      & \\textbf{                     } &             \\\\\n\\textbf{Covariance Type:}  &    nonrobust     & \\textbf{                     } &             \\\\\n\\bottomrule\n\\end{tabular}\n\\begin{tabular}{lcccccc}\n                       & \\textbf{coef} & \\textbf{std err} & \\textbf{t} & \\textbf{P$> |$t$|$} & \\textbf{[0.025} & \\textbf{0.975]}  \\\\\n\\midrule\n\\textbf{Intercept}     &      14.1731  &        8.038     &     1.763  &         0.090        &       -2.349    &       30.696     \\\\\n\\textbf{Q('Compl')}    &       0.1424  &        0.032     &     4.394  &         0.000        &        0.076    &        0.209     \\\\\n\\textbf{Q('Por Tent')} &       3.8820  &        0.927     &     4.189  &         0.000        &        1.977    &        5.787     \\\\\n\\textbf{Q('TD')}       &      -1.4731  &        0.542     &    -2.717  &         0.012        &       -2.587    &       -0.359     \\\\\n\\textbf{Q('PerTD')}    &      10.7021  &        2.649     &     4.040  &         0.000        &        5.257    &       16.148     \\\\\n\\textbf{Q('Int')}      &      -1.0217  &        0.168     &    -6.088  &         0.000        &       -1.367    &       -0.677     \\\\\n\\bottomrule\n\\end{tabular}\n\\begin{tabular}{lclc}\n\\textbf{Omnibus:}       &  0.272 & \\textbf{  Durbin-Watson:     } &    2.453  \\\\\n\\textbf{Prob(Omnibus):} &  0.873 & \\textbf{  Jarque-Bera (JB):  } &    0.279  \\\\\n\\textbf{Skew:}          &  0.190 & \\textbf{  Prob(JB):          } &    0.870  \\\\\n\\textbf{Kurtosis:}      &  2.747 & \\textbf{  Cond. No.          } & 4.80e+03  \\\\\n\\bottomrule\n\\end{tabular}\n%\\caption{OLS Regression Results}\n\\end{center}\n\nNotes: \\newline\n [1] Standard Errors assume that the covariance matrix of the errors is correctly specified. \\newline\n [2] The condition number is large, 4.8e+03. This might indicate that there are \\newline\n strong multicollinearity or other numerical problems."
          },
          "metadata": {},
          "execution_count": 9
        }
      ]
    },
    {
      "cell_type": "code",
      "source": [
        "#podemos ver que a variável Numero de tentativas foi removida, e a variável Numéro de pases paraTouchdowns\n",
        "#se tornou significativa"
      ],
      "metadata": {
        "id": "odWsig0we7Ib"
      },
      "execution_count": null,
      "outputs": []
    },
    {
      "cell_type": "code",
      "source": [
        "f_crit=f.isf(0.05,5,26)\n",
        "f_crit"
      ],
      "metadata": {
        "colab": {
          "base_uri": "https://localhost:8080/"
        },
        "id": "vScqbrW-ftB_",
        "outputId": "b0c8c27b-946f-409b-a945-720f07f51751"
      },
      "execution_count": 15,
      "outputs": [
        {
          "output_type": "execute_result",
          "data": {
            "text/plain": [
              "np.float64(2.5867900870625906)"
            ]
          },
          "metadata": {},
          "execution_count": 15
        }
      ]
    },
    {
      "cell_type": "code",
      "source": [
        "#Como Fstatistic > f_crit, podemos concluir que o modelo é significativo"
      ],
      "metadata": {
        "id": "oDCLFD2SgLs6"
      },
      "execution_count": 16,
      "outputs": []
    },
    {
      "cell_type": "code",
      "source": [
        "#Observando o sumário, vemos que o valor 0 não pertence ao intervalo de confiança de nenhuma das variáveis, portanto\n",
        "#podemos dizer que todas são significativas"
      ],
      "metadata": {
        "id": "mAf_p3Jhg9wY"
      },
      "execution_count": null,
      "outputs": []
    },
    {
      "cell_type": "code",
      "source": [
        "#O coeficiente de determninação é 0.917, isso significa que 91,7% da variação da variável dependente pode ser explicada\n",
        "#pela variação das variáveis independentes"
      ],
      "metadata": {
        "id": "czr30l48hMoK"
      },
      "execution_count": null,
      "outputs": []
    },
    {
      "cell_type": "code",
      "source": [
        "#Vamos agora utilizar o teste de Shapiro-Francia para testar a normalidade dos residuos"
      ],
      "metadata": {
        "id": "Y5zRaDCAiYMW"
      },
      "execution_count": 17,
      "outputs": []
    },
    {
      "cell_type": "code",
      "source": [
        "# Teste de Shapiro-Wilk (já que o tamanho da amostra é menor que 30)\n",
        "shapiro_francia(modelo_completo.resid)\n"
      ],
      "metadata": {
        "colab": {
          "base_uri": "https://localhost:8080/"
        },
        "id": "qDzK21iGi1DH",
        "outputId": "2c8ea350-864b-4fb8-dd4f-0458d5980686"
      },
      "execution_count": 30,
      "outputs": [
        {
          "output_type": "stream",
          "name": "stdout",
          "text": [
            "method  :  Shapiro-Francia normality test\n",
            "statistics W  :  0.9830592976839242\n",
            "statistics z  :  -0.8586128823200263\n",
            "p-value  :  0.8047229358008483\n"
          ]
        },
        {
          "output_type": "execute_result",
          "data": {
            "text/plain": [
              "{'method': 'Shapiro-Francia normality test',\n",
              " 'statistics W': np.float64(0.9830592976839242),\n",
              " 'statistics z': np.float64(-0.8586128823200263),\n",
              " 'p-value': np.float64(0.8047229358008483)}"
            ]
          },
          "metadata": {},
          "execution_count": 30
        }
      ]
    },
    {
      "cell_type": "code",
      "source": [
        "#como pvalue > 0.05, não rejeita-se a hipotese nula, portanto os dados não fogem da normalidade"
      ],
      "metadata": {
        "id": "HlYJ7FAoi90K"
      },
      "execution_count": 27,
      "outputs": []
    },
    {
      "cell_type": "code",
      "source": [],
      "metadata": {
        "id": "Ftnoh6MsjYVc"
      },
      "execution_count": null,
      "outputs": []
    }
  ]
}